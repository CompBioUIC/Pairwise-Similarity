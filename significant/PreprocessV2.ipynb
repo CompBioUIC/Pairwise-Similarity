{
 "cells": [
  {
   "cell_type": "code",
   "execution_count": 1,
   "metadata": {},
   "outputs": [],
   "source": [
    "import os\n",
    "import json\n",
    "import statistics as st\n",
    "import numpy as np\n",
    "import matplotlib.pyplot as plt"
   ]
  },
  {
   "cell_type": "code",
   "execution_count": 2,
   "metadata": {},
   "outputs": [],
   "source": [
    "def clean(data):\n",
    "    for k1 in data.keys():\n",
    "        for k2 in data[k1].keys():\n",
    "            data[k1][k2] = round(st.mean([float(x) for x in data[k1][k2]]), 4)\n",
    "    return data"
   ]
  },
  {
   "cell_type": "code",
   "execution_count": 3,
   "metadata": {},
   "outputs": [],
   "source": [
    "def add_values():\n",
    "    vals = {}\n",
    "    kstrings = []\n",
    "    target = 'new_results'\n",
    "    dirs = sorted(os.listdir(os.path.join(os.getcwd(), target)))\n",
    "    for file in dirs:\n",
    "#         print(file)\n",
    "        if file == '.DS_Store':\n",
    "            continue\n",
    "#         f = open(os.path.join(target, file), 'r')\n",
    "#         data = json.load(f)\n",
    "#         f.close()\n",
    "        filez = file.split(':')\n",
    "        n = ''.join([x for x in filez[2] if x.isdigit()])\n",
    "        m = ''.join([x for x in filez[3] if x.isdigit()])\n",
    "        kstring = n + ', ' + m\n",
    "        kstrings.append(kstring)\n",
    "    \n",
    "    for kstring in kstrings:\n",
    "        vals[kstring] = {'ground': {'p': [], 'r': [], 'f': []}, 'bcc': {'p': [], 'r': [], 'f': []}}\n",
    "        \n",
    "    for file in dirs:\n",
    "#         print(file)\n",
    "        if file == '.DS_Store':\n",
    "            continue\n",
    "        f = open(os.path.join(target, file), 'r')\n",
    "        data = json.load(f)\n",
    "        f.close()\n",
    "        filez = file.split(':')\n",
    "        n = ''.join([x for x in filez[2] if x.isdigit()])\n",
    "        m = ''.join([x for x in filez[3] if x.isdigit()])\n",
    "        kstring = n + ', ' + m\n",
    "        \n",
    "        data = clean(data)\n",
    "        vals[kstring]['ground']['p'].append(data['ground']['p'])\n",
    "        vals[kstring]['ground']['r'].append(data['ground']['r'])\n",
    "        vals[kstring]['ground']['f'].append(data['ground']['f'])\n",
    "        vals[kstring]['bcc']['p'].append(data['bcc']['p'])\n",
    "        vals[kstring]['bcc']['r'].append(data['bcc']['r'])\n",
    "        vals[kstring]['bcc']['f'].append(data['bcc']['f'])\n",
    "    print(vals)\n",
    "    return vals"
   ]
  },
  {
   "cell_type": "code",
   "execution_count": 4,
   "metadata": {},
   "outputs": [
    {
     "data": {
      "image/png": "[encoded data removed]",
      "text/plain": [
       "<Figure size 432x288 with 1 Axes>"
      ]
     },
     "metadata": {
      "needs_background": "light"
     },
     "output_type": "display_data"
    }
   ],
   "source": [
    "n_groups = 4\n",
    "fig, ax = plt.subplots()\n",
    "index = np.arange(n_groups)\n",
    "bar_width = 0.10\n",
    "opacity = 0.8"
   ]
  },
  {
   "cell_type": "code",
   "execution_count": 5,
   "metadata": {},
   "outputs": [
    {
     "name": "stdout",
     "output_type": "stream",
     "text": [
      "{'1000, 3': {'ground': {'p': [1.0, 1.0, 1.0, 1.0], 'r': [0.0127, 0.0235, 0.0492, 0.2411], 'f': [0.0251, 0.046, 0.0933, 0.3774]}, 'bcc': {'p': [0.4307, 0.4307, 0.4307, 0.4307], 'r': [1.0, 1.0, 1.0, 1.0], 'f': [0.6021, 0.6021, 0.6021, 0.6021]}}, '1000, 5': {'ground': {'p': [1.0, 1.0, 1.0, 1.0], 'r': [0.0197, 0.0361, 0.0743, 0.3245], 'f': [0.0385, 0.0697, 0.1373, 0.4775]}, 'bcc': {'p': [0.5408, 0.5408, 0.5408, 0.5408], 'r': [1.0, 1.0, 1.0, 1.0], 'f': [0.702, 0.702, 0.702, 0.702]}}, '200, 10': {'ground': {'p': [0.0648, 0.0648, 0.0648, 0.0648], 'r': [0.0194, 0.0216, 0.0321, 0.143], 'f': [0.0299, 0.0323, 0.0424, 0.0851]}, 'bcc': {'p': [0.271, 0.617, 0.617, 0.8517], 'r': [1.0, 1.0, 1.0, 1.0], 'f': [0.4264, 0.7631, 0.7631, 0.9199]}}, '200, 3': {'ground': {'p': [1.0, 1.0, 1.0, 1.0], 'r': [0.0129, 0.0239, 0.0499, 0.244], 'f': [0.0255, 0.0467, 0.0946, 0.3811]}, 'bcc': {'p': [0.4345, 0.4345, 0.4345, 0.4346], 'r': [1.0, 1.0, 1.0, 1.0], 'f': [0.6057, 0.6058, 0.6058, 0.6059]}}, '200, 5': {'ground': {'p': [1.0, 1.0, 1.0, 1.0], 'r': [0.0198, 0.0365, 0.0749, 0.3261], 'f': [0.0388, 0.0703, 0.1383, 0.4794]}, 'bcc': {'p': [0.5429, 0.5429, 0.5429, 0.5429], 'r': [1.0, 1.0, 1.0, 1.0], 'f': [0.7038, 0.7038, 0.7038, 0.7038]}}, '500, 10': {'ground': {'p': [1.0, 1.0, 1.0, 1.0], 'r': [0.0266, 0.0487, 0.0984, 0.3906], 'f': [0.0518, 0.0927, 0.1777, 0.5495]}, 'bcc': {'p': [0.6163, 0.6163, 0.6163, 0.6163], 'r': [1.0, 1.0, 1.0, 1.0], 'f': [0.7626, 0.7626, 0.7626, 0.7626]}}, '500, 3': {'ground': {'p': [1.0, 1.0, 1.0, 1.0], 'r': [0.0128, 0.0236, 0.0493, 0.2418], 'f': [0.0252, 0.0461, 0.0936, 0.3783]}, 'bcc': {'p': [0.4316, 0.4316, 0.4316, 0.4316], 'r': [1.0, 1.0, 1.0, 1.0], 'f': [0.603, 0.603, 0.603, 0.603]}}, '500, 5': {'ground': {'p': [1.0, 1.0, 1.0, 1.0], 'r': [0.0197, 0.0362, 0.0744, 0.3249], 'f': [0.0386, 0.0699, 0.1376, 0.4781]}, 'bcc': {'p': [0.5413, 0.5413, 0.5413, 0.5413], 'r': [1.0, 1.0, 1.0, 1.0], 'f': [0.7024, 0.7024, 0.7024, 0.7024]}}}\n",
      "200, 3 ground p\n",
      "[1.0, 1.0, 1.0, 1.0]\n",
      "---------------\n",
      "200, 5 ground p\n",
      "[1.0, 1.0, 1.0, 1.0]\n",
      "---------------\n",
      "200, 10 ground p\n",
      "[0.0648, 0.0648, 0.0648, 0.0648]\n",
      "---------------\n",
      "500, 3 ground p\n",
      "[1.0, 1.0, 1.0, 1.0]\n",
      "---------------\n",
      "500, 5 ground p\n",
      "[1.0, 1.0, 1.0, 1.0]\n",
      "---------------\n",
      "500, 10 ground p\n",
      "[1.0, 1.0, 1.0, 1.0]\n",
      "---------------\n",
      "1000, 3 ground p\n",
      "[1.0, 1.0, 1.0, 1.0]\n",
      "---------------\n",
      "1000, 5 ground p\n",
      "[1.0, 1.0, 1.0, 1.0]\n",
      "---------------\n"
     ]
    },
    {
     "data": {
      "image/png": "[encoded data removed]",
      "text/plain": [
       "<Figure size 432x288 with 1 Axes>"
      ]
     },
     "metadata": {
      "needs_background": "light"
     },
     "output_type": "display_data"
    },
    {
     "name": "stdout",
     "output_type": "stream",
     "text": [
      "200, 3 ground r\n",
      "[0.0129, 0.0239, 0.0499, 0.244]\n",
      "---------------\n",
      "200, 5 ground r\n",
      "[0.0198, 0.0365, 0.0749, 0.3261]\n",
      "---------------\n",
      "200, 10 ground r\n",
      "[0.0194, 0.0216, 0.0321, 0.143]\n",
      "---------------\n",
      "500, 3 ground r\n",
      "[0.0128, 0.0236, 0.0493, 0.2418]\n",
      "---------------\n",
      "500, 5 ground r\n",
      "[0.0197, 0.0362, 0.0744, 0.3249]\n",
      "---------------\n",
      "500, 10 ground r\n",
      "[0.0266, 0.0487, 0.0984, 0.3906]\n",
      "---------------\n",
      "1000, 3 ground r\n",
      "[0.0127, 0.0235, 0.0492, 0.2411]\n",
      "---------------\n",
      "1000, 5 ground r\n",
      "[0.0197, 0.0361, 0.0743, 0.3245]\n",
      "---------------\n"
     ]
    },
    {
     "data": {
      "image/png": "[encoded data removed]",
      "text/plain": [
       "<Figure size 432x288 with 1 Axes>"
      ]
     },
     "metadata": {
      "needs_background": "light"
     },
     "output_type": "display_data"
    },
    {
     "name": "stdout",
     "output_type": "stream",
     "text": [
      "200, 3 ground f\n",
      "[0.0255, 0.0467, 0.0946, 0.3811]\n",
      "---------------\n",
      "200, 5 ground f\n",
      "[0.0388, 0.0703, 0.1383, 0.4794]\n",
      "---------------\n",
      "200, 10 ground f\n",
      "[0.0299, 0.0323, 0.0424, 0.0851]\n",
      "---------------\n",
      "500, 3 ground f\n",
      "[0.0252, 0.0461, 0.0936, 0.3783]\n",
      "---------------\n",
      "500, 5 ground f\n",
      "[0.0386, 0.0699, 0.1376, 0.4781]\n",
      "---------------\n",
      "500, 10 ground f\n",
      "[0.0518, 0.0927, 0.1777, 0.5495]\n",
      "---------------\n",
      "1000, 3 ground f\n",
      "[0.0251, 0.046, 0.0933, 0.3774]\n",
      "---------------\n",
      "1000, 5 ground f\n",
      "[0.0385, 0.0697, 0.1373, 0.4775]\n",
      "---------------\n"
     ]
    },
    {
     "data": {
      "image/png": "[encoded data removed]",
      "text/plain": [
       "<Figure size 432x288 with 1 Axes>"
      ]
     },
     "metadata": {
      "needs_background": "light"
     },
     "output_type": "display_data"
    },
    {
     "name": "stdout",
     "output_type": "stream",
     "text": [
      "200, 3 bcc p\n",
      "[0.4345, 0.4345, 0.4345, 0.4346]\n",
      "---------------\n",
      "200, 5 bcc p\n",
      "[0.5429, 0.5429, 0.5429, 0.5429]\n",
      "---------------\n",
      "200, 10 bcc p\n",
      "[0.271, 0.617, 0.617, 0.8517]\n",
      "---------------\n",
      "500, 3 bcc p\n",
      "[0.4316, 0.4316, 0.4316, 0.4316]\n",
      "---------------\n",
      "500, 5 bcc p\n",
      "[0.5413, 0.5413, 0.5413, 0.5413]\n",
      "---------------\n",
      "500, 10 bcc p\n",
      "[0.6163, 0.6163, 0.6163, 0.6163]\n",
      "---------------\n",
      "1000, 3 bcc p\n",
      "[0.4307, 0.4307, 0.4307, 0.4307]\n",
      "---------------\n",
      "1000, 5 bcc p\n",
      "[0.5408, 0.5408, 0.5408, 0.5408]\n",
      "---------------\n"
     ]
    },
    {
     "data": {
      "image/png": "[encoded data removed]",
      "text/plain": [
       "<Figure size 432x288 with 1 Axes>"
      ]
     },
     "metadata": {
      "needs_background": "light"
     },
     "output_type": "display_data"
    },
    {
     "name": "stdout",
     "output_type": "stream",
     "text": [
      "200, 3 bcc r\n",
      "[1.0, 1.0, 1.0, 1.0]\n",
      "---------------\n",
      "200, 5 bcc r\n",
      "[1.0, 1.0, 1.0, 1.0]\n",
      "---------------\n",
      "200, 10 bcc r\n",
      "[1.0, 1.0, 1.0, 1.0]\n",
      "---------------\n",
      "500, 3 bcc r\n",
      "[1.0, 1.0, 1.0, 1.0]\n",
      "---------------\n",
      "500, 5 bcc r\n",
      "[1.0, 1.0, 1.0, 1.0]\n",
      "---------------\n",
      "500, 10 bcc r\n",
      "[1.0, 1.0, 1.0, 1.0]\n",
      "---------------\n",
      "1000, 3 bcc r\n",
      "[1.0, 1.0, 1.0, 1.0]\n",
      "---------------\n",
      "1000, 5 bcc r\n",
      "[1.0, 1.0, 1.0, 1.0]\n",
      "---------------\n"
     ]
    },
    {
     "data": {
      "image/png": "[encoded data removed]",
      "text/plain": [
       "<Figure size 432x288 with 1 Axes>"
      ]
     },
     "metadata": {
      "needs_background": "light"
     },
     "output_type": "display_data"
    },
    {
     "name": "stdout",
     "output_type": "stream",
     "text": [
      "200, 3 bcc f\n",
      "[0.6057, 0.6058, 0.6058, 0.6059]\n",
      "---------------\n",
      "200, 5 bcc f\n",
      "[0.7038, 0.7038, 0.7038, 0.7038]\n",
      "---------------\n",
      "200, 10 bcc f\n",
      "[0.4264, 0.7631, 0.7631, 0.9199]\n",
      "---------------\n",
      "500, 3 bcc f\n",
      "[0.603, 0.603, 0.603, 0.603]\n",
      "---------------\n",
      "500, 5 bcc f\n",
      "[0.7024, 0.7024, 0.7024, 0.7024]\n",
      "---------------\n",
      "500, 10 bcc f\n",
      "[0.7626, 0.7626, 0.7626, 0.7626]\n",
      "---------------\n",
      "1000, 3 bcc f\n",
      "[0.6021, 0.6021, 0.6021, 0.6021]\n",
      "---------------\n",
      "1000, 5 bcc f\n",
      "[0.702, 0.702, 0.702, 0.702]\n",
      "---------------\n"
     ]
    },
    {
     "data": {
      "image/png": "[encoded data removed]",
      "text/plain": [
       "<Figure size 432x288 with 1 Axes>"
      ]
     },
     "metadata": {
      "needs_background": "light"
     },
     "output_type": "display_data"
    }
   ],
   "source": [
    "vals = add_values()\n",
    "\n",
    "for kind in ['ground', 'bcc']:\n",
    "    for measure in ['p', 'r', 'f']:\n",
    "\n",
    "        m200_3 = vals['200, 3'][kind][measure]\n",
    "        print(f'''200, 3 {kind} {measure}''')\n",
    "        print(vals['200, 3'][kind][measure])\n",
    "        print('---------------')\n",
    "        m200_5 = vals['200, 5'][kind][measure]\n",
    "        print(f'''200, 5 {kind} {measure}''')\n",
    "        print(vals['200, 5'][kind][measure])\n",
    "        print('---------------')\n",
    "        \n",
    "        m200_10 = vals['200, 10'][kind][measure]\n",
    "        print(f'''200, 10 {kind} {measure}''')\n",
    "        print(vals['200, 10'][kind][measure])\n",
    "        print('---------------')\n",
    "        \n",
    "        \n",
    "        m500_3 = vals['500, 3'][kind][measure]\n",
    "        print(f'''500, 3 {kind} {measure}''')\n",
    "        print(vals['500, 3'][kind][measure])\n",
    "        print('---------------')\n",
    "        \n",
    "        \n",
    "        m500_5 = vals['500, 5'][kind][measure]\n",
    "        print(f'''500, 5 {kind} {measure}''')\n",
    "        print(vals['500, 5'][kind][measure])\n",
    "        print('---------------')\n",
    "        \n",
    "        m500_10 = vals['500, 10'][kind][measure]\n",
    "        print(f'''500, 10 {kind} {measure}''')\n",
    "        print(vals['500, 10'][kind][measure])\n",
    "        print('---------------')\n",
    "        \n",
    "\n",
    "        m1000_3 = vals['1000, 3'][kind][measure]\n",
    "        print(f'''1000, 3 {kind} {measure}''')\n",
    "        print(vals['1000, 3'][kind][measure])\n",
    "        print('---------------')\n",
    "        \n",
    "        \n",
    "        m1000_5 = vals['1000, 5'][kind][measure]\n",
    "        print(f'''1000, 5 {kind} {measure}''')\n",
    "        print(vals['1000, 5'][kind][measure])\n",
    "        print('---------------')\n",
    "        \n",
    "        \n",
    "        rects1 = plt.bar(index, m200_3, bar_width,\n",
    "                         alpha=opacity,\n",
    "                         color='darkgreen',\n",
    "                         label='200, 3')\n",
    "        rects2 = plt.bar(index + bar_width, m200_5, bar_width,\n",
    "                         alpha=opacity,\n",
    "                         color='forestgreen',\n",
    "                         label='200, 5')\n",
    "        rects3 = plt.bar(index + 2*bar_width, m200_10, bar_width,\n",
    "                         alpha=opacity,\n",
    "                         color='limegreen',\n",
    "                         label='200, 10')\n",
    "        rects4 = plt.bar(index + 3*bar_width, m500_3, bar_width,\n",
    "                         alpha=opacity,\n",
    "                         color='rosybrown',\n",
    "                         label='500, 3')\n",
    "        rects5 = plt.bar(index + 4*bar_width, m500_5, bar_width,\n",
    "                         alpha=opacity,\n",
    "                         color='lightcoral',\n",
    "                         label='500, 5')\n",
    "        rects6 = plt.bar(index + 5*bar_width, m500_10, bar_width,\n",
    "                         alpha=opacity,\n",
    "                         color='indianred',\n",
    "                         label='500, 10')\n",
    "        rects7 = plt.bar(index + 6*bar_width, m1000_3, bar_width,\n",
    "                         alpha=opacity,\n",
    "                         color='navy',\n",
    "                         label='1000, 3')\n",
    "        rects8 = plt.bar(index + 7*bar_width, m1000_5, bar_width,\n",
    "                         alpha=opacity,\n",
    "                         color='blue',\n",
    "                         label='1000, 5')\n",
    "        \n",
    "        plt.xlabel('Percentile')\n",
    "        if measure == 'p':\n",
    "            plt.ylabel('Precision')\n",
    "        elif measure == 'r':\n",
    "            plt.ylabel('Recall')\n",
    "        else:\n",
    "            plt.ylabel('F1-Score')\n",
    "        plt.xticks(index + 3*bar_width, ('50', '80', '90', '98'))\n",
    "        plt.legend(loc = 'lower right')\n",
    "        plt.ylim(0.0, 1.0)\n",
    "\n",
    "        plt.tight_layout()\n",
    "        plt.savefig(fname=kind + ' ' + measure, format='png')\n",
    "        plt.show()"
   ]
  },
  {
   "cell_type": "code",
   "execution_count": null,
   "metadata": {},
   "outputs": [],
   "source": []
  },
  {
   "cell_type": "code",
   "execution_count": null,
   "metadata": {},
   "outputs": [],
   "source": []
  }
 ],
 "metadata": {
  "kernelspec": {
   "display_name": "Python 3",
   "language": "python",
   "name": "python3"
  },
  "language_info": {
   "codemirror_mode": {
    "name": "ipython",
    "version": 3
   },
   "file_extension": ".py",
   "mimetype": "text/x-python",
   "name": "python",
   "nbconvert_exporter": "python",
   "pygments_lexer": "ipython3",
   "version": "3.6.7"
  }
 },
 "nbformat": 4,
 "nbformat_minor": 2
}
