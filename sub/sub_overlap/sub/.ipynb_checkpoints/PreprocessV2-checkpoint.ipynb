{
 "cells": [
  {
   "cell_type": "code",
   "execution_count": 1,
   "metadata": {},
   "outputs": [],
   "source": [
    "import os\n",
    "import json\n",
    "import statistics as st\n",
    "import numpy as np\n",
    "import matplotlib.pyplot as plt"
   ]
  },
  {
   "cell_type": "code",
   "execution_count": 2,
   "metadata": {},
   "outputs": [],
   "source": [
    "def clean(data):\n",
    "    for k1 in data.keys():\n",
    "        for k2 in data[k1].keys():\n",
    "            data[k1][k2] = round(st.mean([float(x) for x in data[k1][k2]]), 4)\n",
    "    return data"
   ]
  },
  {
   "cell_type": "code",
   "execution_count": 3,
   "metadata": {},
   "outputs": [],
   "source": [
    "def add_values():\n",
    "    vals = {}\n",
    "    kstrings = []\n",
    "    target = 'new_results'\n",
    "    dirs = sorted(os.listdir(os.path.join(os.getcwd(), target)))\n",
    "    for file in dirs:\n",
    "#         print(file)\n",
    "        if file == '.DS_Store':\n",
    "            continue\n",
    "#         f = open(os.path.join(target, file), 'r')\n",
    "#         data = json.load(f)\n",
    "#         f.close()\n",
    "        filez = file.split(':')\n",
    "        n = ''.join([x for x in filez[2] if x.isdigit()])\n",
    "        m = ''.join([x for x in filez[3] if x.isdigit()])\n",
    "        kstring = n + ', ' + m\n",
    "        kstrings.append(kstring)\n",
    "    \n",
    "    for kstring in kstrings:\n",
    "        vals[kstring] = {'ground': {'p': [], 'r': [], 'f': []}, 'bcc': {'p': [], 'r': [], 'f': []}}\n",
    "        \n",
    "    for file in dirs:\n",
    "#         print(file)\n",
    "        if file == '.DS_Store':\n",
    "            continue\n",
    "        f = open(os.path.join(target, file), 'r')\n",
    "        data = json.load(f)\n",
    "        f.close()\n",
    "        filez = file.split(':')\n",
    "        n = ''.join([x for x in filez[2] if x.isdigit()])\n",
    "        m = ''.join([x for x in filez[3] if x.isdigit()])\n",
    "        kstring = n + ', ' + m\n",
    "        \n",
    "        data = clean(data)\n",
    "        vals[kstring]['ground']['p'].append(data['ground']['p'])\n",
    "        vals[kstring]['ground']['r'].append(data['ground']['r'])\n",
    "        vals[kstring]['ground']['f'].append(data['ground']['f'])\n",
    "        vals[kstring]['bcc']['p'].append(data['bcc']['p'])\n",
    "        vals[kstring]['bcc']['r'].append(data['bcc']['r'])\n",
    "        vals[kstring]['bcc']['f'].append(data['bcc']['f'])\n",
    "    print(vals)\n",
    "    return vals"
   ]
  },
  {
   "cell_type": "code",
   "execution_count": 4,
   "metadata": {},
   "outputs": [
    {
     "data": {
      "image/png": "[encoded data removed]",
      "text/plain": [
       "<Figure size 432x288 with 1 Axes>"
      ]
     },
     "metadata": {
      "needs_background": "light"
     },
     "output_type": "display_data"
    }
   ],
   "source": [
    "n_groups = 4\n",
    "fig, ax = plt.subplots()\n",
    "index = np.arange(n_groups)\n",
    "bar_width = 0.10\n",
    "opacity = 0.8"
   ]
  },
  {
   "cell_type": "code",
   "execution_count": 5,
   "metadata": {},
   "outputs": [
    {
     "name": "stdout",
     "output_type": "stream",
     "text": [
      "{'1000, 3': {'ground': {'p': [0.0, 0.0, 0.0, 0.8], 'r': [0.0, 0.0, 0.0, 0.4096], 'f': [0.0, 0.0, 0.0, 0.4431]}, 'bcc': {'p': [0.9999, 0.9999, 0.9998, 0.9989], 'r': [1.0, 1.0, 1.0, 1.0], 'f': [1.0, 0.9999, 0.9999, 0.9994]}}, '1000, 5': {'ground': {'p': [0.0, 0.0, 0.0, 0.6], 'r': [0.0, 0.0, 0.0, 0.5231], 'f': [0.0, 0.0, 0.0, 0.5529]}, 'bcc': {'p': [1.0, 1.0, 1.0, 0.9999], 'r': [1.0, 1.0, 1.0, 1.0], 'f': [1.0, 1.0, 1.0, 1.0]}}, '200, 10': {'ground': {'p': [0.0, 0.0, 0.0, 0.6], 'r': [0.0, 0.0, 0.0, 0.4115], 'f': [0.0, 0.0, 0.0, 0.4449]}, 'bcc': {'p': [0.9999, 0.9999, 0.9998, 0.9989], 'r': [1.0, 1.0, 1.0, 1.0], 'f': [1.0, 0.9999, 0.9999, 0.9994]}}, '200, 3': {'ground': {'p': [0.0, 0.0, 0.0, 0.4], 'r': [0.0, 0.0, 0.0, 0.263], 'f': [0.0, 0.0, 0.0, 0.2982]}, 'bcc': {'p': [0.9986, 0.9982, 0.9963, 0.9819], 'r': [1.0, 1.0, 1.0, 1.0], 'f': [0.9993, 0.9991, 0.9982, 0.9909]}}, '200, 5': {'ground': {'p': [0.0, 0.0, 0.0, 0.4], 'r': [0.0, 0.0, 0.0, 0.3542], 'f': [0.0, 0.0, 0.0, 0.3742]}, 'bcc': {'p': [0.9996, 0.9994, 0.9989, 0.9972], 'r': [1.0, 1.0, 1.0, 1.0], 'f': [0.9998, 0.9997, 0.9994, 0.9986]}}, '500, 10': {'ground': {'p': [0.0, 0.0, 0.0, 0.6], 'r': [0.0, 0.0, 0.0, 0.5235], 'f': [0.0, 0.0, 0.0, 0.5531]}, 'bcc': {'p': [1.0, 1.0, 1.0, 0.9999], 'r': [1.0, 1.0, 1.0, 1.0], 'f': [1.0, 1.0, 1.0, 1.0]}}, '500, 3': {'ground': {'p': [0.0, 0.0, 0.0, 0.4], 'r': [0.0, 0.0, 0.0, 0.3268], 'f': [0.0, 0.0, 0.0, 0.3554]}, 'bcc': {'p': [0.9996, 0.9996, 0.9991, 0.9955], 'r': [1.0, 1.0, 1.0, 1.0], 'f': [0.9998, 0.9998, 0.9996, 0.9978]}}, '500, 5': {'ground': {'p': [0.0, 0.0, 0.0, 0.6], 'r': [0.0, 0.0, 0.0, 0.4275], 'f': [0.0, 0.0, 0.0, 0.462]}, 'bcc': {'p': [0.9999, 0.9999, 0.9999, 0.9993], 'r': [1.0, 1.0, 1.0, 1.0], 'f': [1.0, 1.0, 0.9999, 0.9996]}}}\n",
      "200, 3 ground p\n",
      "[0.0, 0.0, 0.0, 0.4]\n",
      "---------------\n",
      "200, 5 ground p\n",
      "[0.0, 0.0, 0.0, 0.4]\n",
      "---------------\n",
      "200, 10 ground p\n",
      "[0.0, 0.0, 0.0, 0.6]\n",
      "---------------\n",
      "500, 3 ground p\n",
      "[0.0, 0.0, 0.0, 0.4]\n",
      "---------------\n",
      "500, 5 ground p\n",
      "[0.0, 0.0, 0.0, 0.6]\n",
      "---------------\n",
      "500, 10 ground p\n",
      "[0.0, 0.0, 0.0, 0.6]\n",
      "---------------\n",
      "1000, 3 ground p\n",
      "[0.0, 0.0, 0.0, 0.8]\n",
      "---------------\n",
      "1000, 5 ground p\n",
      "[0.0, 0.0, 0.0, 0.6]\n",
      "---------------\n"
     ]
    },
    {
     "data": {
      "image/png": "[encoded data removed]",
      "text/plain": [
       "<Figure size 432x288 with 1 Axes>"
      ]
     },
     "metadata": {
      "needs_background": "light"
     },
     "output_type": "display_data"
    },
    {
     "name": "stdout",
     "output_type": "stream",
     "text": [
      "200, 3 ground r\n",
      "[0.0, 0.0, 0.0, 0.263]\n",
      "---------------\n",
      "200, 5 ground r\n",
      "[0.0, 0.0, 0.0, 0.3542]\n",
      "---------------\n",
      "200, 10 ground r\n",
      "[0.0, 0.0, 0.0, 0.4115]\n",
      "---------------\n",
      "500, 3 ground r\n",
      "[0.0, 0.0, 0.0, 0.3268]\n",
      "---------------\n",
      "500, 5 ground r\n",
      "[0.0, 0.0, 0.0, 0.4275]\n",
      "---------------\n",
      "500, 10 ground r\n",
      "[0.0, 0.0, 0.0, 0.5235]\n",
      "---------------\n",
      "1000, 3 ground r\n",
      "[0.0, 0.0, 0.0, 0.4096]\n",
      "---------------\n",
      "1000, 5 ground r\n",
      "[0.0, 0.0, 0.0, 0.5231]\n",
      "---------------\n"
     ]
    },
    {
     "data": {
      "image/png": "[encoded data removed]",
      "text/plain": [
       "<Figure size 432x288 with 1 Axes>"
      ]
     },
     "metadata": {
      "needs_background": "light"
     },
     "output_type": "display_data"
    },
    {
     "name": "stdout",
     "output_type": "stream",
     "text": [
      "200, 3 ground f\n",
      "[0.0, 0.0, 0.0, 0.2982]\n",
      "---------------\n",
      "200, 5 ground f\n",
      "[0.0, 0.0, 0.0, 0.3742]\n",
      "---------------\n",
      "200, 10 ground f\n",
      "[0.0, 0.0, 0.0, 0.4449]\n",
      "---------------\n",
      "500, 3 ground f\n",
      "[0.0, 0.0, 0.0, 0.3554]\n",
      "---------------\n",
      "500, 5 ground f\n",
      "[0.0, 0.0, 0.0, 0.462]\n",
      "---------------\n",
      "500, 10 ground f\n",
      "[0.0, 0.0, 0.0, 0.5531]\n",
      "---------------\n",
      "1000, 3 ground f\n",
      "[0.0, 0.0, 0.0, 0.4431]\n",
      "---------------\n",
      "1000, 5 ground f\n",
      "[0.0, 0.0, 0.0, 0.5529]\n",
      "---------------\n"
     ]
    },
    {
     "data": {
      "image/png": "[encoded data removed]",
      "text/plain": [
       "<Figure size 432x288 with 1 Axes>"
      ]
     },
     "metadata": {
      "needs_background": "light"
     },
     "output_type": "display_data"
    },
    {
     "name": "stdout",
     "output_type": "stream",
     "text": [
      "200, 3 bcc p\n",
      "[0.9986, 0.9982, 0.9963, 0.9819]\n",
      "---------------\n",
      "200, 5 bcc p\n",
      "[0.9996, 0.9994, 0.9989, 0.9972]\n",
      "---------------\n",
      "200, 10 bcc p\n",
      "[0.9999, 0.9999, 0.9998, 0.9989]\n",
      "---------------\n",
      "500, 3 bcc p\n",
      "[0.9996, 0.9996, 0.9991, 0.9955]\n",
      "---------------\n",
      "500, 5 bcc p\n",
      "[0.9999, 0.9999, 0.9999, 0.9993]\n",
      "---------------\n",
      "500, 10 bcc p\n",
      "[1.0, 1.0, 1.0, 0.9999]\n",
      "---------------\n",
      "1000, 3 bcc p\n",
      "[0.9999, 0.9999, 0.9998, 0.9989]\n",
      "---------------\n",
      "1000, 5 bcc p\n",
      "[1.0, 1.0, 1.0, 0.9999]\n",
      "---------------\n"
     ]
    },
    {
     "data": {
      "image/png": "[encoded data removed]",
      "text/plain": [
       "<Figure size 432x288 with 1 Axes>"
      ]
     },
     "metadata": {
      "needs_background": "light"
     },
     "output_type": "display_data"
    },
    {
     "name": "stdout",
     "output_type": "stream",
     "text": [
      "200, 3 bcc r\n",
      "[1.0, 1.0, 1.0, 1.0]\n",
      "---------------\n",
      "200, 5 bcc r\n",
      "[1.0, 1.0, 1.0, 1.0]\n",
      "---------------\n",
      "200, 10 bcc r\n",
      "[1.0, 1.0, 1.0, 1.0]\n",
      "---------------\n",
      "500, 3 bcc r\n",
      "[1.0, 1.0, 1.0, 1.0]\n",
      "---------------\n",
      "500, 5 bcc r\n",
      "[1.0, 1.0, 1.0, 1.0]\n",
      "---------------\n",
      "500, 10 bcc r\n",
      "[1.0, 1.0, 1.0, 1.0]\n",
      "---------------\n",
      "1000, 3 bcc r\n",
      "[1.0, 1.0, 1.0, 1.0]\n",
      "---------------\n",
      "1000, 5 bcc r\n",
      "[1.0, 1.0, 1.0, 1.0]\n",
      "---------------\n"
     ]
    },
    {
     "data": {
      "image/png": "[encoded data removed]",
      "text/plain": [
       "<Figure size 432x288 with 1 Axes>"
      ]
     },
     "metadata": {
      "needs_background": "light"
     },
     "output_type": "display_data"
    },
    {
     "name": "stdout",
     "output_type": "stream",
     "text": [
      "200, 3 bcc f\n",
      "[0.9993, 0.9991, 0.9982, 0.9909]\n",
      "---------------\n",
      "200, 5 bcc f\n",
      "[0.9998, 0.9997, 0.9994, 0.9986]\n",
      "---------------\n",
      "200, 10 bcc f\n",
      "[1.0, 0.9999, 0.9999, 0.9994]\n",
      "---------------\n",
      "500, 3 bcc f\n",
      "[0.9998, 0.9998, 0.9996, 0.9978]\n",
      "---------------\n",
      "500, 5 bcc f\n",
      "[1.0, 1.0, 0.9999, 0.9996]\n",
      "---------------\n",
      "500, 10 bcc f\n",
      "[1.0, 1.0, 1.0, 1.0]\n",
      "---------------\n",
      "1000, 3 bcc f\n",
      "[1.0, 0.9999, 0.9999, 0.9994]\n",
      "---------------\n",
      "1000, 5 bcc f\n",
      "[1.0, 1.0, 1.0, 1.0]\n",
      "---------------\n"
     ]
    },
    {
     "data": {
      "image/png": "[encoded data removed]",
      "text/plain": [
       "<Figure size 432x288 with 1 Axes>"
      ]
     },
     "metadata": {
      "needs_background": "light"
     },
     "output_type": "display_data"
    }
   ],
   "source": [
    "vals = add_values()\n",
    "\n",
    "for kind in ['ground', 'bcc']:\n",
    "    for measure in ['p', 'r', 'f']:\n",
    "\n",
    "        m200_3 = vals['200, 3'][kind][measure]\n",
    "        print(f'''200, 3 {kind} {measure}''')\n",
    "        print(vals['200, 3'][kind][measure])\n",
    "        print('---------------')\n",
    "        m200_5 = vals['200, 5'][kind][measure]\n",
    "        print(f'''200, 5 {kind} {measure}''')\n",
    "        print(vals['200, 5'][kind][measure])\n",
    "        print('---------------')\n",
    "        \n",
    "        m200_10 = vals['200, 10'][kind][measure]\n",
    "        print(f'''200, 10 {kind} {measure}''')\n",
    "        print(vals['200, 10'][kind][measure])\n",
    "        print('---------------')\n",
    "        \n",
    "        \n",
    "        m500_3 = vals['500, 3'][kind][measure]\n",
    "        print(f'''500, 3 {kind} {measure}''')\n",
    "        print(vals['500, 3'][kind][measure])\n",
    "        print('---------------')\n",
    "        \n",
    "        \n",
    "        m500_5 = vals['500, 5'][kind][measure]\n",
    "        print(f'''500, 5 {kind} {measure}''')\n",
    "        print(vals['500, 5'][kind][measure])\n",
    "        print('---------------')\n",
    "        \n",
    "        m500_10 = vals['500, 10'][kind][measure]\n",
    "        print(f'''500, 10 {kind} {measure}''')\n",
    "        print(vals['500, 10'][kind][measure])\n",
    "        print('---------------')\n",
    "        \n",
    "\n",
    "        m1000_3 = vals['1000, 3'][kind][measure]\n",
    "        print(f'''1000, 3 {kind} {measure}''')\n",
    "        print(vals['1000, 3'][kind][measure])\n",
    "        print('---------------')\n",
    "        \n",
    "        \n",
    "        m1000_5 = vals['1000, 5'][kind][measure]\n",
    "        print(f'''1000, 5 {kind} {measure}''')\n",
    "        print(vals['1000, 5'][kind][measure])\n",
    "        print('---------------')\n",
    "        \n",
    "        \n",
    "        rects1 = plt.bar(index, m200_3, bar_width,\n",
    "                         alpha=opacity,\n",
    "                         color='darkgreen',\n",
    "                         label='200, 3')\n",
    "        rects2 = plt.bar(index + bar_width, m200_5, bar_width,\n",
    "                         alpha=opacity,\n",
    "                         color='forestgreen',\n",
    "                         label='200, 5')\n",
    "        rects3 = plt.bar(index + 2*bar_width, m200_10, bar_width,\n",
    "                         alpha=opacity,\n",
    "                         color='limegreen',\n",
    "                         label='200, 10')\n",
    "        rects4 = plt.bar(index + 3*bar_width, m500_3, bar_width,\n",
    "                         alpha=opacity,\n",
    "                         color='rosybrown',\n",
    "                         label='500, 3')\n",
    "        rects5 = plt.bar(index + 4*bar_width, m500_5, bar_width,\n",
    "                         alpha=opacity,\n",
    "                         color='lightcoral',\n",
    "                         label='500, 5')\n",
    "        rects6 = plt.bar(index + 5*bar_width, m500_10, bar_width,\n",
    "                         alpha=opacity,\n",
    "                         color='indianred',\n",
    "                         label='500, 10')\n",
    "        rects7 = plt.bar(index + 6*bar_width, m1000_3, bar_width,\n",
    "                         alpha=opacity,\n",
    "                         color='navy',\n",
    "                         label='1000, 3')\n",
    "        rects8 = plt.bar(index + 7*bar_width, m1000_5, bar_width,\n",
    "                         alpha=opacity,\n",
    "                         color='blue',\n",
    "                         label='1000, 5')\n",
    "        \n",
    "        plt.xlabel('Percentile')\n",
    "        if measure == 'p':\n",
    "            plt.ylabel('Precision')\n",
    "        elif measure == 'r':\n",
    "            plt.ylabel('Recall')\n",
    "        else:\n",
    "            plt.ylabel('F1-Score')\n",
    "        plt.xticks(index + 3*bar_width, ('50', '80', '90', '98'))\n",
    "        plt.legend(loc = 'lower right')\n",
    "        plt.ylim(0.0, 1.0)\n",
    "\n",
    "        plt.tight_layout()\n",
    "        plt.savefig(fname=kind + ' ' + measure, format='png')\n",
    "        plt.show()"
   ]
  },
  {
   "cell_type": "code",
   "execution_count": null,
   "metadata": {},
   "outputs": [],
   "source": []
  },
  {
   "cell_type": "code",
   "execution_count": null,
   "metadata": {},
   "outputs": [],
   "source": []
  }
 ],
 "metadata": {
  "kernelspec": {
   "display_name": "Python 3",
   "language": "python",
   "name": "python3"
  },
  "language_info": {
   "codemirror_mode": {
    "name": "ipython",
    "version": 3
   },
   "file_extension": ".py",
   "mimetype": "text/x-python",
   "name": "python",
   "nbconvert_exporter": "python",
   "pygments_lexer": "ipython3",
   "version": "3.6.7"
  }
 },
 "nbformat": 4,
 "nbformat_minor": 2
}
